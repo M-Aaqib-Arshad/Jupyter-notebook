{
 "cells": [
  {
   "cell_type": "markdown",
   "id": "a824cebe",
   "metadata": {},
   "source": [
    "# Indexing \n",
    "## Strings\n"
   ]
  },
  {
   "cell_type": "code",
   "execution_count": 1,
   "id": "1e944fee",
   "metadata": {},
   "outputs": [
    {
     "data": {
      "text/plain": [
       "'Hello world'"
      ]
     },
     "execution_count": 1,
     "metadata": {},
     "output_type": "execute_result"
    }
   ],
   "source": [
    "# make a string \n",
    "a = \"Hello world\"\n",
    "a"
   ]
  },
  {
   "cell_type": "markdown",
   "id": "f2eaf62f",
   "metadata": {},
   "source": [
    "### Length of index "
   ]
  },
  {
   "cell_type": "code",
   "execution_count": 2,
   "id": "9668c2e9",
   "metadata": {},
   "outputs": [
    {
     "data": {
      "text/plain": [
       "11"
      ]
     },
     "execution_count": 2,
     "metadata": {},
     "output_type": "execute_result"
    }
   ],
   "source": [
    "len(a)"
   ]
  },
  {
   "cell_type": "code",
   "execution_count": 6,
   "id": "f813488c",
   "metadata": {},
   "outputs": [
    {
     "name": "stdout",
     "output_type": "stream",
     "text": [
      "H\n"
     ]
    }
   ],
   "source": [
    "print(a[0])"
   ]
  },
  {
   "cell_type": "markdown",
   "id": "14c28924",
   "metadata": {},
   "source": [
    "### Last index is exclusive "
   ]
  },
  {
   "cell_type": "code",
   "execution_count": 5,
   "id": "4b7cbfcb",
   "metadata": {},
   "outputs": [
    {
     "data": {
      "text/plain": [
       "'Hello'"
      ]
     },
     "execution_count": 5,
     "metadata": {},
     "output_type": "execute_result"
    }
   ],
   "source": [
    "# For only take first word \n",
    "\n",
    "\n",
    "a[0:5]"
   ]
  },
  {
   "cell_type": "code",
   "execution_count": 8,
   "id": "a4f32aab",
   "metadata": {},
   "outputs": [
    {
     "data": {
      "text/plain": [
       "' world'"
      ]
     },
     "execution_count": 8,
     "metadata": {},
     "output_type": "execute_result"
    }
   ],
   "source": [
    "a[-6:11]"
   ]
  },
  {
   "cell_type": "code",
   "execution_count": null,
   "id": "5066e4f8",
   "metadata": {},
   "outputs": [],
   "source": []
  },
  {
   "cell_type": "code",
   "execution_count": null,
   "id": "ec81b101",
   "metadata": {},
   "outputs": [],
   "source": []
  },
  {
   "cell_type": "code",
   "execution_count": null,
   "id": "441eba8d",
   "metadata": {},
   "outputs": [],
   "source": []
  }
 ],
 "metadata": {
  "kernelspec": {
   "display_name": "Python 3 (ipykernel)",
   "language": "python",
   "name": "python3"
  },
  "language_info": {
   "codemirror_mode": {
    "name": "ipython",
    "version": 3
   },
   "file_extension": ".py",
   "mimetype": "text/x-python",
   "name": "python",
   "nbconvert_exporter": "python",
   "pygments_lexer": "ipython3",
   "version": "3.9.13"
  }
 },
 "nbformat": 4,
 "nbformat_minor": 5
}
