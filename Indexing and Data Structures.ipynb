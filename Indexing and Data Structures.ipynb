{
 "cells": [
  {
   "cell_type": "markdown",
   "id": "69e855bd",
   "metadata": {},
   "source": [
    "# Indexing \n",
    "## Strings\n"
   ]
  },
  {
   "cell_type": "code",
   "execution_count": 1,
   "id": "5d8108b6",
   "metadata": {},
   "outputs": [
    {
     "data": {
      "text/plain": [
       "'Hello world'"
      ]
     },
     "execution_count": 1,
     "metadata": {},
     "output_type": "execute_result"
    }
   ],
   "source": [
    "# make a string \n",
    "a = \"Hello world\"\n",
    "a"
   ]
  },
  {
   "cell_type": "markdown",
   "id": "21bd727d",
   "metadata": {},
   "source": [
    "### Length of index "
   ]
  },
  {
   "cell_type": "code",
   "execution_count": 2,
   "id": "dc06b3ad",
   "metadata": {},
   "outputs": [
    {
     "data": {
      "text/plain": [
       "11"
      ]
     },
     "execution_count": 2,
     "metadata": {},
     "output_type": "execute_result"
    }
   ],
   "source": [
    "len(a)"
   ]
  },
  {
   "cell_type": "code",
   "execution_count": 6,
   "id": "da7f2683",
   "metadata": {},
   "outputs": [
    {
     "name": "stdout",
     "output_type": "stream",
     "text": [
      "H\n"
     ]
    }
   ],
   "source": [
    "print(a[0])"
   ]
  },
  {
   "cell_type": "markdown",
   "id": "98188a0f",
   "metadata": {},
   "source": [
    "### Last index is exclusive "
   ]
  },
  {
   "cell_type": "code",
   "execution_count": 5,
   "id": "1fe1ff94",
   "metadata": {},
   "outputs": [
    {
     "data": {
      "text/plain": [
       "'Hello'"
      ]
     },
     "execution_count": 5,
     "metadata": {},
     "output_type": "execute_result"
    }
   ],
   "source": [
    "# For only take first word \n",
    "\n",
    "\n",
    "a[0:5]"
   ]
  },
  {
   "cell_type": "code",
   "execution_count": 14,
   "id": "f9e38951",
   "metadata": {},
   "outputs": [
    {
     "data": {
      "text/plain": [
       "' worl'"
      ]
     },
     "execution_count": 14,
     "metadata": {},
     "output_type": "execute_result"
    }
   ],
   "source": [
    "a[-6:-1]"
   ]
  },
  {
   "cell_type": "code",
   "execution_count": 9,
   "id": "ace446ff",
   "metadata": {},
   "outputs": [
    {
     "data": {
      "text/plain": [
       "'o'"
      ]
     },
     "execution_count": 9,
     "metadata": {},
     "output_type": "execute_result"
    }
   ],
   "source": [
    "a[4] \n"
   ]
  },
  {
   "cell_type": "code",
   "execution_count": 11,
   "id": "7bbfd841",
   "metadata": {},
   "outputs": [
    {
     "data": {
      "text/plain": [
       "' worl'"
      ]
     },
     "execution_count": 11,
     "metadata": {},
     "output_type": "execute_result"
    }
   ],
   "source": [
    "a[5:10] \n"
   ]
  },
  {
   "cell_type": "code",
   "execution_count": 12,
   "id": "8bb66f1f",
   "metadata": {},
   "outputs": [
    {
     "data": {
      "text/plain": [
       "' world'"
      ]
     },
     "execution_count": 12,
     "metadata": {},
     "output_type": "execute_result"
    }
   ],
   "source": [
    "a[5:11] \n"
   ]
  },
  {
   "cell_type": "code",
   "execution_count": 13,
   "id": "fd4d332d",
   "metadata": {},
   "outputs": [
    {
     "data": {
      "text/plain": [
       "' worl'"
      ]
     },
     "execution_count": 13,
     "metadata": {},
     "output_type": "execute_result"
    }
   ],
   "source": [
    "a[-6:-1]"
   ]
  },
  {
   "cell_type": "markdown",
   "id": "683b62fb",
   "metadata": {},
   "source": [
    "## Strings Methods"
   ]
  },
  {
   "cell_type": "code",
   "execution_count": 15,
   "id": "c64b2a50",
   "metadata": {},
   "outputs": [
    {
     "data": {
      "text/plain": [
       "'I am aaqib and i am learning Python'"
      ]
     },
     "execution_count": 15,
     "metadata": {},
     "output_type": "execute_result"
    }
   ],
   "source": [
    "a = \"i am aaqib and i am learning Python\"\n",
    "a"
   ]
  },
  {
   "cell_type": "code",
   "execution_count": 17,
   "id": "a685048d",
   "metadata": {},
   "outputs": [
    {
     "data": {
      "text/plain": [
       "'I am aaqib and i am learning python'"
      ]
     },
     "execution_count": 17,
     "metadata": {},
     "output_type": "execute_result"
    }
   ],
   "source": [
    "a.capitalize()"
   ]
  },
  {
   "cell_type": "code",
   "execution_count": 18,
   "id": "a23adf03",
   "metadata": {},
   "outputs": [
    {
     "data": {
      "text/plain": [
       "'i am aaqib and i am learning python'"
      ]
     },
     "execution_count": 18,
     "metadata": {},
     "output_type": "execute_result"
    }
   ],
   "source": [
    "a.lower()"
   ]
  },
  {
   "cell_type": "code",
   "execution_count": 19,
   "id": "c166b234",
   "metadata": {},
   "outputs": [
    {
     "data": {
      "text/plain": [
       "'I AM AAQIB AND I AM LEARNING PYTHON'"
      ]
     },
     "execution_count": 19,
     "metadata": {},
     "output_type": "execute_result"
    }
   ],
   "source": [
    "a.upper()"
   ]
  },
  {
   "cell_type": "code",
   "execution_count": 20,
   "id": "fef3f71e",
   "metadata": {},
   "outputs": [
    {
     "data": {
      "text/plain": [
       "1"
      ]
     },
     "execution_count": 20,
     "metadata": {},
     "output_type": "execute_result"
    }
   ],
   "source": [
    "a.count(\"aa\")"
   ]
  },
  {
   "cell_type": "code",
   "execution_count": 21,
   "id": "1c97274e",
   "metadata": {},
   "outputs": [
    {
     "data": {
      "text/plain": [
       "5"
      ]
     },
     "execution_count": 21,
     "metadata": {},
     "output_type": "execute_result"
    }
   ],
   "source": [
    "a.find(\"aa\")"
   ]
  },
  {
   "cell_type": "code",
   "execution_count": null,
   "id": "b15d865b",
   "metadata": {},
   "outputs": [],
   "source": []
  },
  {
   "cell_type": "code",
   "execution_count": null,
   "id": "8254d189",
   "metadata": {},
   "outputs": [],
   "source": []
  }
 ],
 "metadata": {
  "kernelspec": {
   "display_name": "Python 3 (ipykernel)",
   "language": "python",
   "name": "python3"
  },
  "language_info": {
   "codemirror_mode": {
    "name": "ipython",
    "version": 3
   },
   "file_extension": ".py",
   "mimetype": "text/x-python",
   "name": "python",
   "nbconvert_exporter": "python",
   "pygments_lexer": "ipython3",
   "version": "3.9.13"
  }
 },
 "nbformat": 4,
 "nbformat_minor": 5
}
