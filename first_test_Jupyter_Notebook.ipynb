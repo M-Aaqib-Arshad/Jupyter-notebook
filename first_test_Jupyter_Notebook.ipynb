{
 "cells": [
  {
   "cell_type": "markdown",
   "id": "8a13536f",
   "metadata": {},
   "source": [
    "# Leaning Python\n",
    "## How to use jupyter Notebook\n",
    "### Python basics\n",
    "\n",
    "1- My First Python Program"
   ]
  },
  {
   "cell_type": "code",
   "execution_count": 7,
   "id": "8250b4aa",
   "metadata": {},
   "outputs": [
    {
     "name": "stdout",
     "output_type": "stream",
     "text": [
      "Hello World\n",
      "6\n"
     ]
    }
   ],
   "source": [
    "a = 6\n",
    "print(\"Hello World\")\n",
    "print(a)"
   ]
  },
  {
   "cell_type": "markdown",
   "id": "907c9cb9",
   "metadata": {},
   "source": [
    "### Operators\n",
    "02- My Second Program"
   ]
  },
  {
   "cell_type": "code",
   "execution_count": 8,
   "id": "f7208a33",
   "metadata": {},
   "outputs": [
    {
     "name": "stdout",
     "output_type": "stream",
     "text": [
      "4\n",
      "2\n",
      "3.0\n",
      "12\n",
      "1\n",
      "3\n",
      "36\n",
      "11.0\n"
     ]
    }
   ],
   "source": [
    "print(3+1)\n",
    "print(3-1)\n",
    "print(6/2) #Output is a floating point number\n",
    "print(6*2)\n",
    "print(13%2)\n",
    "print(6//2) # Output is a whole number\n",
    "print(6**2) # Output is Power of 6\n",
    "\n",
    "# BODMAS OR PEDMAS  \n",
    "# BODMAS () brackets, Order of Powers, Multiplication , Addition , Subtraction\n",
    "# PEDMAS  Paranthesis , Exponents, // // //\n",
    "# left to right sequence for Multiplication and Division \n",
    "print(3**3/3*4/3+5-6)\n",
    "\n",
    "\n"
   ]
  },
  {
   "cell_type": "markdown",
   "id": "430924a7",
   "metadata": {},
   "source": [
    "* BODMAS OR PEDMAS  \n",
    " BODMAS () brackets, Order of Powers, Multiplication , Addition , Subtraction\n",
    " PEDMAS  Paranthesis , Exponents, // // //\n",
    " left to right sequence for Multiplication and Division *"
   ]
  },
  {
   "cell_type": "markdown",
   "id": "466e1056",
   "metadata": {},
   "source": [
    "**Strings and Its methods**"
   ]
  },
  {
   "cell_type": "code",
   "execution_count": 13,
   "id": "db51dbff",
   "metadata": {},
   "outputs": [
    {
     "name": "stdout",
     "output_type": "stream",
     "text": [
      "Hello World\n",
      "Hello World\n",
      "Hello world\n",
      "What's upf?\n",
      "H e\n",
      "B\n",
      "a\n",
      "n\n",
      "a\n",
      "n\n",
      "a\n",
      "6\n",
      "Ban\n",
      "nan\n",
      "Banana\n",
      "Aaqib\n",
      "AAQIB\n",
      "2\n",
      "True\n",
      "True\n",
      "True\n",
      "False\n",
      "Hello, World\n",
      "Jello, World\n",
      "['Hello', ' World']\n",
      "Hi! Aaqib\n",
      "Hello, I am Aaqib and i am {age} year old\n",
      "Hello, I am Aaqib and i am 20 year old\n",
      "I want 3 pieces of item 567 for 49.95 dollars.\n",
      "I want 3 pieces of item 567 for 49.95 dollars.\n",
      "We are the so-called \"Vikings\" from the north.\n"
     ]
    }
   ],
   "source": [
    "print('Hello World')\n",
    "print(\"Hello World\")\n",
    "print('''Hello world''')  #Used for multiline\n",
    "print(\"What's upf?\")\n",
    "\n",
    "\n",
    "# String behaves like an array\n",
    "\n",
    "a = \"Hello, World\"\n",
    "\n",
    "print(a[0],a[1])\n",
    "\n",
    "\n",
    "# String Looping \n",
    "\n",
    "b = \"Banana\"\n",
    "name = 'aaqib'\n",
    "\n",
    "for x in b:\n",
    "    print(x)\n",
    "# Length of a String \n",
    "print(len(b))\n",
    "\n",
    "# String Slicing \n",
    "\n",
    "print(b[0:3])\n",
    "print(b[-4:-1])\n",
    "print(b[0:])\n",
    "\n",
    "# String Methods\n",
    "print(name.capitalize()) # First letter only\n",
    "# print(name.center) \n",
    "print(name.upper())      # All letters are Capitalize\n",
    "print(name.count('a'))      # Count All the numbers of character which you want to find\n",
    "\n",
    "print(name.isalnum())   # True\n",
    "print(name.isalpha())   # True\n",
    "print(name.isascii())   # True\n",
    "print(name.isdigit())   # Fales\n",
    "\n",
    "print(a.strip()) # returns \"Hello, World!\" Remove white spaces\n",
    "\n",
    "print(a.replace(\"H\", \"J\"))  # Replace the H with J\n",
    "\n",
    "print(a.split(\",\")) # returns ['Hello', ' World!'] Sperates if on the basis of commas or sperator\n",
    "\n",
    "# Concatination \n",
    "\n",
    "greetings = \"Hi!\"\n",
    "name = \" Aaqib\"\n",
    "\n",
    "c = greetings + name\n",
    "print(c)\n",
    "\n",
    "# Format method to concate string with number\n",
    "age = 20\n",
    "text = \"Hello, I am Aaqib and i am {age} year old\"\n",
    "print(text) #Hello, I am Aaqib and i am {age} year old\n",
    "text = \"Hello, I am Aaqib and i am {} year old\"\n",
    "\n",
    "print(text.format(age))\n",
    "\n",
    "\n",
    "quantity = 3\n",
    "itemno = 567\n",
    "price = 49.95\n",
    "myorder = \"I want {} pieces of item {} for {} dollars.\"\n",
    "print(myorder.format(quantity, itemno, price))\n",
    "\n",
    "myorder = f\"I want {quantity} pieces of item {itemno} for {price} dollars.\"\n",
    "print(myorder)\n",
    "\n",
    "# Escape Characters \n",
    "txt = \"We are the so-called \\\"Vikings\\\" from the north.\"\n",
    "print(txt) \n"
   ]
  },
  {
   "cell_type": "code",
   "execution_count": null,
   "id": "7ec46389",
   "metadata": {},
   "outputs": [],
   "source": []
  }
 ],
 "metadata": {
  "kernelspec": {
   "display_name": "Python 3 (ipykernel)",
   "language": "python",
   "name": "python3"
  },
  "language_info": {
   "codemirror_mode": {
    "name": "ipython",
    "version": 3
   },
   "file_extension": ".py",
   "mimetype": "text/x-python",
   "name": "python",
   "nbconvert_exporter": "python",
   "pygments_lexer": "ipython3",
   "version": "3.9.13"
  }
 },
 "nbformat": 4,
 "nbformat_minor": 5
}
